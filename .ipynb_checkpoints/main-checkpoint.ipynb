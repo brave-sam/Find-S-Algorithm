import pandas as pd;
import numpy as np;

header = ['Sky','AirTemp','Humadity','Wind','Weather','Forcast','Enjoy']
data=[['Sunny','Warm','Normal','Strong','Warm','Same','yes'],['Sunny','Warm','High','Strong','Warm','Same','yes'],['Rainy','Cold','High','Strong','Warm','Change','no'],['Sunny','Warm','High','Strong','Warm','Change','yes']]
data=pd.DataFrame(data,coloumns=header)
data.to_csv("data.csv",index=False)

data=pd.read_csv("data.csv")
print(data)
