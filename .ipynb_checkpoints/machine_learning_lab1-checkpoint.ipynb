{
 "cells": [
  {
   "cell_type": "code",
   "execution_count": 37,
   "id": "32e7cd6f-39f9-4548-9f61-ce0a9d3b778f",
   "metadata": {},
   "outputs": [
    {
     "data": {
      "text/html": [
       "<div>\n",
       "<style scoped>\n",
       "    .dataframe tbody tr th:only-of-type {\n",
       "        vertical-align: middle;\n",
       "    }\n",
       "\n",
       "    .dataframe tbody tr th {\n",
       "        vertical-align: top;\n",
       "    }\n",
       "\n",
       "    .dataframe thead th {\n",
       "        text-align: right;\n",
       "    }\n",
       "</style>\n",
       "<table border=\"1\" class=\"dataframe\">\n",
       "  <thead>\n",
       "    <tr style=\"text-align: right;\">\n",
       "      <th></th>\n",
       "      <th>Sky</th>\n",
       "      <th>AirTemp</th>\n",
       "      <th>Humadity</th>\n",
       "      <th>Wind</th>\n",
       "      <th>Water</th>\n",
       "      <th>Forcast</th>\n",
       "      <th>Enjoy</th>\n",
       "    </tr>\n",
       "  </thead>\n",
       "  <tbody>\n",
       "    <tr>\n",
       "      <th>0</th>\n",
       "      <td>Sunny</td>\n",
       "      <td>Warm</td>\n",
       "      <td>Normal</td>\n",
       "      <td>Strong</td>\n",
       "      <td>Warm</td>\n",
       "      <td>Same</td>\n",
       "      <td>yes</td>\n",
       "    </tr>\n",
       "    <tr>\n",
       "      <th>1</th>\n",
       "      <td>Sunny</td>\n",
       "      <td>Warm</td>\n",
       "      <td>High</td>\n",
       "      <td>Strong</td>\n",
       "      <td>Warm</td>\n",
       "      <td>Same</td>\n",
       "      <td>yes</td>\n",
       "    </tr>\n",
       "    <tr>\n",
       "      <th>2</th>\n",
       "      <td>Rainy</td>\n",
       "      <td>Cold</td>\n",
       "      <td>High</td>\n",
       "      <td>Strong</td>\n",
       "      <td>Warm</td>\n",
       "      <td>Change</td>\n",
       "      <td>no</td>\n",
       "    </tr>\n",
       "    <tr>\n",
       "      <th>3</th>\n",
       "      <td>Sunny</td>\n",
       "      <td>Warm</td>\n",
       "      <td>High</td>\n",
       "      <td>Strong</td>\n",
       "      <td>Cool</td>\n",
       "      <td>Change</td>\n",
       "      <td>yes</td>\n",
       "    </tr>\n",
       "  </tbody>\n",
       "</table>\n",
       "</div>"
      ],
      "text/plain": [
       "     Sky AirTemp Humadity    Wind Water Forcast Enjoy\n",
       "0  Sunny    Warm   Normal  Strong  Warm    Same   yes\n",
       "1  Sunny    Warm     High  Strong  Warm    Same   yes\n",
       "2  Rainy    Cold     High  Strong  Warm  Change    no\n",
       "3  Sunny    Warm     High  Strong  Cool  Change   yes"
      ]
     },
     "execution_count": 37,
     "metadata": {},
     "output_type": "execute_result"
    }
   ],
   "source": [
    "import pandas as pd;\n",
    "import numpy as np;\n",
    "\n",
    "header = ['Sky','AirTemp','Humadity','Wind','Water','Forcast','Enjoy']\n",
    "data=[['Sunny','Warm','Normal','Strong','Warm','Same','yes'],['Sunny','Warm','High','Strong','Warm','Same','yes'],['Rainy','Cold','High','Strong','Warm','Change','no'],['Sunny','Warm','High','Strong','Cool','Change','yes']]\n",
    "data=pd.DataFrame(data,columns=header)\n",
    "data.to_csv(\"data.csv\",index=False)\n",
    "\n",
    "data=pd.read_csv(\"data.csv\")\n",
    "data"
   ]
  },
  {
   "cell_type": "code",
   "execution_count": 38,
   "id": "ad579278-6dd9-456d-a0f5-6ab6288a1688",
   "metadata": {},
   "outputs": [
    {
     "name": "stdout",
     "output_type": "stream",
     "text": [
      "The attributes are: [['Sunny' 'Warm' 'Normal' 'Strong' 'Warm' 'Same']\n",
      " ['Sunny' 'Warm' 'High' 'Strong' 'Warm' 'Same']\n",
      " ['Rainy' 'Cold' 'High' 'Strong' 'Warm' 'Change']\n",
      " ['Sunny' 'Warm' 'High' 'Strong' 'Cool' 'Change']]\n"
     ]
    }
   ],
   "source": [
    "# Data attributes \n",
    "d=np.array(data)[:,:-1]\n",
    "print(\"The attributes are:\",d)"
   ]
  },
  {
   "cell_type": "code",
   "execution_count": 39,
   "id": "834e1c92-39c8-4fcd-a06f-eac86f2f3058",
   "metadata": {},
   "outputs": [
    {
     "name": "stdout",
     "output_type": "stream",
     "text": [
      "The target is: ['yes' 'yes' 'no' 'yes']\n"
     ]
    }
   ],
   "source": [
    "# target attributes\n",
    "target = np.array(data)[:,-1]\n",
    "print(\"The target is:\",target)"
   ]
  },
  {
   "cell_type": "code",
   "execution_count": 40,
   "id": "cfdf2868-d2a1-4e45-8df6-343a0e1090da",
   "metadata": {},
   "outputs": [],
   "source": [
    "def train(c,t):\n",
    "    for i, val in enumerate(t):\n",
    "        if val =='yes':\n",
    "            specific_hypothesis = c[i].copy()\n",
    "        break\n",
    "    for i, val in enumerate(c):\n",
    "        if t[i]=='yes':\n",
    "            for x in range(len(specific_hypothesis)):\n",
    "                if val[x]!=specific_hypothesis[x]:\n",
    "                    specific_hypothesis[x]='?'\n",
    "                else:\n",
    "                    pass\n",
    "    return specific_hypothesis\n"
   ]
  },
  {
   "cell_type": "code",
   "execution_count": 41,
   "id": "37d38ea3-5f64-4e95-834b-4ee80a724d8e",
   "metadata": {},
   "outputs": [
    {
     "name": "stdout",
     "output_type": "stream",
     "text": [
      "The final hypothesis is: ['Sunny' 'Warm' '?' 'Strong' '?' '?']\n"
     ]
    }
   ],
   "source": [
    "print(\"The final hypothesis is:\",train(d,target))"
   ]
  },
  {
   "cell_type": "code",
   "execution_count": null,
   "id": "af285375-a33a-4b5f-bb75-0d53cf5ddb4a",
   "metadata": {},
   "outputs": [],
   "source": []
  }
 ],
 "metadata": {
  "kernelspec": {
   "display_name": "Python 3 (ipykernel)",
   "language": "python",
   "name": "python3"
  },
  "language_info": {
   "codemirror_mode": {
    "name": "ipython",
    "version": 3
   },
   "file_extension": ".py",
   "mimetype": "text/x-python",
   "name": "python",
   "nbconvert_exporter": "python",
   "pygments_lexer": "ipython3",
   "version": "3.11.8"
  }
 },
 "nbformat": 4,
 "nbformat_minor": 5
}
